{
  "nbformat": 4,
  "nbformat_minor": 0,
  "metadata": {
    "colab": {
      "provenance": []
    },
    "kernelspec": {
      "name": "python3",
      "display_name": "Python 3"
    },
    "language_info": {
      "name": "python"
    }
  },
  "cells": [
    {
      "cell_type": "code",
      "execution_count": 1,
      "metadata": {
        "colab": {
          "base_uri": "https://localhost:8080/"
        },
        "id": "_e6CTeeHcdoZ",
        "outputId": "b16ecac6-9e52-419b-fc85-0d20fb8ac4f2"
      },
      "outputs": [
        {
          "output_type": "stream",
          "name": "stdout",
          "text": [
            "Collecting gradientai\n",
            "  Downloading gradientai-1.13.0-py3-none-any.whl (397 kB)\n",
            "\u001b[2K     \u001b[90m━━━━━━━━━━━━━━━━━━━━━━━━━━━━━━━━━━━━━━━━\u001b[0m \u001b[32m397.7/397.7 kB\u001b[0m \u001b[31m6.4 MB/s\u001b[0m eta \u001b[36m0:00:00\u001b[0m\n",
            "\u001b[?25hCollecting aenum>=3.1.11 (from gradientai)\n",
            "  Downloading aenum-3.1.15-py3-none-any.whl (137 kB)\n",
            "\u001b[2K     \u001b[90m━━━━━━━━━━━━━━━━━━━━━━━━━━━━━━━━━━━━━━━━\u001b[0m \u001b[32m137.6/137.6 kB\u001b[0m \u001b[31m8.1 MB/s\u001b[0m eta \u001b[36m0:00:00\u001b[0m\n",
            "\u001b[?25hRequirement already satisfied: pydantic<3,>=1.10.15 in /usr/local/lib/python3.10/dist-packages (from gradientai) (2.7.4)\n",
            "Requirement already satisfied: python-dateutil>=2.8.2 in /usr/local/lib/python3.10/dist-packages (from gradientai) (2.8.2)\n",
            "Requirement already satisfied: urllib3>=1.25.3 in /usr/local/lib/python3.10/dist-packages (from gradientai) (2.0.7)\n",
            "Requirement already satisfied: annotated-types>=0.4.0 in /usr/local/lib/python3.10/dist-packages (from pydantic<3,>=1.10.15->gradientai) (0.7.0)\n",
            "Requirement already satisfied: pydantic-core==2.18.4 in /usr/local/lib/python3.10/dist-packages (from pydantic<3,>=1.10.15->gradientai) (2.18.4)\n",
            "Requirement already satisfied: typing-extensions>=4.6.1 in /usr/local/lib/python3.10/dist-packages (from pydantic<3,>=1.10.15->gradientai) (4.12.2)\n",
            "Requirement already satisfied: six>=1.5 in /usr/local/lib/python3.10/dist-packages (from python-dateutil>=2.8.2->gradientai) (1.16.0)\n",
            "Installing collected packages: aenum, gradientai\n",
            "Successfully installed aenum-3.1.15 gradientai-1.13.0\n"
          ]
        }
      ],
      "source": [
        "!pip install gradientai --upgrade"
      ]
    },
    {
      "cell_type": "code",
      "source": [
        "import os\n",
        "os.environ['GRADIENT_WORKSPACE_ID']='7e421e1b-7024-478a-ba8e-b508f835e8de_workspace'\n",
        "os.environ['GRADIENT_ACCESS_TOKEN']='VSMGtbtDa69fhoEl15KbMYjxKHhzpvYi'"
      ],
      "metadata": {
        "id": "SU3cUwwacjww"
      },
      "execution_count": 2,
      "outputs": []
    },
    {
      "cell_type": "code",
      "source": [
        "from gradientai import Gradient\n",
        "from pprint import pprint\n",
        "\n",
        "\n",
        "def main():\n",
        "    gradient = Gradient()\n",
        "\n",
        "    base_model = gradient.get_base_model(base_model_slug=\"nous-hermes2\")\n",
        "\n",
        "    new_model_adapter = base_model.create_model_adapter(\n",
        "        name=\"prasanth_malla\"\n",
        "    )\n",
        "    print(f\"Created model adapter with id {new_model_adapter.id}\")\n",
        "\n",
        "\n",
        "    sample_query = \"### Instruction: Describe Prasanth Naidu Malla's educational background? ? \\n\\n ### Response:\"\n",
        "    print(f\"Asking: {sample_query}\")\n",
        "    ## Before Finetuning\n",
        "    completion = new_model_adapter.complete(query=sample_query, max_generated_token_count=100).generated_output\n",
        "    pprint(f\"Generated(before fine tuning): {completion}\")\n",
        "\n",
        "    samples=[\n",
        "    {\n",
        "        \"inputs\": \"### Instruction: What are the key technologies Prasanth Naidu Malla specializes in?\\n\\n### Response:\\nPrasanth Naidu Malla specializes in Generative AI and Large Language Models (LLMs), leveraging tools like Python, React, JavaScript, GitHub, and AWS. His work involves creating innovative solutions and unlocking insights using these technologies.\",\n",
        "    },\n",
        "    {\n",
        "        \"inputs\": \"### Instruction: Describe Prasanth Naidu Malla's educational background and achievements.\\n\\n### Response:\\nPrasanth Naidu Malla completed his Bachelor of Technology (BTech) in Information Technology from University College of Engineering, Vizianagaram, achieving a grade of 8.0. He actively participated in ACM, where he held roles such as Treasurer and Member, showcasing leadership and commitment in the field of computing.\",\n",
        "    },\n",
        "    {\n",
        "        \"inputs\": \"### Instruction: What are some notable projects Prasanth Naidu Malla has worked on?\\n\\n### Response:\\nPrasanth Naidu Malla's notable projects include 'K-fold Cross-Validation for Social Media Ads Analysis,' where he employed advanced machine learning techniques to enhance the accuracy of social media ads analysis. Another project is his work on 'Linear Regression' shared on GitHub, demonstrating his proficiency in applying statistical models for data analysis and prediction.\",\n",
        "    },\n",
        "    {\n",
        "        \"inputs\": \"### Instruction: How does Prasanth Naidu Malla contribute to the AI community?\\n\\n### Response:\\nPrasanth Naidu Malla actively contributes to the AI community by sharing his knowledge and experiences publicly on LinkedIn. He posts updates, projects, and insights related to AI, data science, and software development, fostering learning and growth among his peers and followers.\",\n",
        "    },\n",
        "    {\n",
        "        \"inputs\": \"### Instruction: What certifications and credentials does Prasanth Naidu Malla hold?\\n\\n### Response:\\nPrasanth Naidu Malla holds certifications such as 'Prompt Engineering Zero to Hero' from LetsUpgrade and 'Cypher Fundamentals' from Neo4j. These certifications validate his skills in software engineering, data analysis, and database management, essential for his role in leveraging AI technologies.\",\n",
        "    },\n",
        "    {\n",
        "        \"inputs\": \"### Instruction: How does Prasanth Naidu Malla's professional journey reflect his passion for AI?\\n\\n### Response:\\nPrasanth Naidu Malla's professional journey reflects his passion for AI through his transition into the Gen AI domain. With hands-on experience in Large Language Models (LLMs) and a focus on Generative AI at Drishya AI Labs, he continues to tackle complex challenges and deliver impactful solutions, driven by continuous learning and innovation.\",\n",
        "    }\n",
        "]\n",
        "\n",
        "\n",
        "    ## Lets define parameters for finetuning\n",
        "    num_epochs=10\n",
        "    count=0\n",
        "    while count<num_epochs:\n",
        "      print(f\"Fine tuning the model with iteration {count + 1}\")\n",
        "      new_model_adapter.fine_tune(samples=samples)\n",
        "      count=count+1\n",
        "\n",
        "    #after fine tuning\n",
        "    completion = new_model_adapter.complete(query=sample_query, max_generated_token_count=100).generated_output\n",
        "    pprint(f\"Generated(after fine tuning): {completion}\")\n",
        "    # new_model_adapter.delete()\n",
        "    # gradient.close()\n",
        "\n",
        "if __name__ == \"__main__\":\n",
        "    main()"
      ],
      "metadata": {
        "colab": {
          "base_uri": "https://localhost:8080/"
        },
        "id": "0U5D6rx6deHY",
        "outputId": "d68ce4ce-a0ed-4ec1-90e9-3c62b1e0e933"
      },
      "execution_count": 43,
      "outputs": [
        {
          "output_type": "stream",
          "name": "stdout",
          "text": [
            "Created model adapter with id baf61f91-1d76-4d01-b104-4df9726cae32_model_adapter\n",
            "Asking: ### Instruction: Describe Prasanth Naidu Malla's educational background? ? \n",
            "\n",
            " ### Response:\n",
            "('Generated(before fine tuning):  Prasanth Naidu Malla is a Nepalese cricketer '\n",
            " 'who has represented the Nepal national cricket team in various international '\n",
            " \"tournaments. He completed his schooling from St. Xavier's School in \"\n",
            " 'Jawalakhel, Lalitpur, Nepal. He then pursued his higher education in '\n",
            " 'Bachelor of Business Administration (BBA) from the Institute of Management '\n",
            " 'and Science, Nepal. Malla is also a graduate in Master of Business '\n",
            " 'Administration')\n",
            "Fine tuning the model with iteration 1\n",
            "Fine tuning the model with iteration 2\n",
            "Fine tuning the model with iteration 3\n",
            "Fine tuning the model with iteration 4\n",
            "Fine tuning the model with iteration 5\n",
            "Fine tuning the model with iteration 6\n",
            "Fine tuning the model with iteration 7\n",
            "Fine tuning the model with iteration 8\n",
            "Fine tuning the model with iteration 9\n",
            "Fine tuning the model with iteration 10\n",
            "('Generated(after fine tuning): Prasanth Naidu Malla completed his Bachelor of '\n",
            " 'Technology (BTech) in Information Technology from University College of '\n",
            " 'Engineering, Vizianagaram, achieving a grade of 8.0. He actively engaged in '\n",
            " 'the ACM, where he held roles such as Treasurer and Member, showcasing '\n",
            " 'leadership and commitment in the field of computing.')\n"
          ]
        }
      ]
    },
    {
      "cell_type": "code",
      "source": [
        "from gradientai import Gradient\n",
        "from pprint import pprint\n",
        "\n",
        "def use_fine_tuned_model(adapter_id):\n",
        "    gradient = Gradient()\n",
        "    fine_tuned_adapter = gradient.get_model_adapter(model_adapter_id=adapter_id)\n",
        "    new_query = \"Describe Prasanth Naidu Malla's educational background?\"\n",
        "    pprint(f\"Asking: {new_query}\")\n",
        "    completion = fine_tuned_adapter.complete(query=new_query, max_generated_token_count=100).generated_output\n",
        "    pprint(f\"Generated (using fine-tuned model): {completion}\")\n",
        "\n",
        "if __name__ == \"__main__\":\n",
        "    fine_tuned_adapter_id = \"baf61f91-1d76-4d01-b104-4df9726cae32_model_adapter\"\n",
        "    use_fine_tuned_model(fine_tuned_adapter_id)"
      ],
      "metadata": {
        "id": "uifyewQ9dmjs",
        "colab": {
          "base_uri": "https://localhost:8080/"
        },
        "outputId": "6eaa0249-4101-48fd-83bd-b511efc363b3"
      },
      "execution_count": 44,
      "outputs": [
        {
          "output_type": "stream",
          "name": "stdout",
          "text": [
            "\"Asking: Describe Prasanth Naidu Malla's educational background?\"\n",
            "('Generated (using fine-tuned model): Prasanth Naidu Malla completed his '\n",
            " 'Bachelor of Technology (BTech) in Information Technology from University '\n",
            " 'College of Engineering, Vizianagaram, achieving a grade of 8.0. He actively '\n",
            " 'participated in ACM, where he held roles such as Treasurer and Member, '\n",
            " 'showcasing leadership and commitment in the field of computing.')\n"
          ]
        }
      ]
    },
    {
      "cell_type": "code",
      "source": [],
      "metadata": {
        "id": "a4jHMH-A2lpK"
      },
      "execution_count": 45,
      "outputs": []
    },
    {
      "cell_type": "code",
      "source": [],
      "metadata": {
        "id": "0zioGeVx3pOj"
      },
      "execution_count": 21,
      "outputs": []
    },
    {
      "cell_type": "code",
      "source": [],
      "metadata": {
        "id": "X4WiGOON3tuK"
      },
      "execution_count": 21,
      "outputs": []
    },
    {
      "cell_type": "code",
      "source": [],
      "metadata": {
        "id": "o61ZLbLc8myg"
      },
      "execution_count": 21,
      "outputs": []
    },
    {
      "cell_type": "code",
      "source": [],
      "metadata": {
        "id": "VgjDkEd-9D7e"
      },
      "execution_count": 21,
      "outputs": []
    }
  ]
}